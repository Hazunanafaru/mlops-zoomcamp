{
 "cells": [
  {
   "cell_type": "markdown",
   "metadata": {},
   "source": [
    "## MLflow's Model Registry"
   ]
  },
  {
   "cell_type": "code",
   "execution_count": 1,
   "metadata": {},
   "outputs": [],
   "source": [
    "from mlflow.tracking import MlflowClient\n",
    "\n",
    "\n",
    "MLFLOW_TRACKING_URI = \"sqlite:///mlflow.db\""
   ]
  },
  {
   "cell_type": "markdown",
   "metadata": {},
   "source": [
    "### Interacting with the MLflow tracking server\n",
    "\n",
    "The `MlflowClient` object allows us to interact with...\n",
    "- an MLflow Tracking Server that creates and manages experiments and runs.\n",
    "- an MLflow Registry Server that creates and manages registered models and model versions. \n",
    "\n",
    "To instantiate it we need to pass a tracking URI and/or a registry URI"
   ]
  },
  {
   "cell_type": "code",
   "execution_count": 2,
   "metadata": {},
   "outputs": [
    {
     "data": {
      "text/plain": [
       "[<Experiment: artifact_location='./mlruns/0', experiment_id='0', lifecycle_stage='active', name='Default', tags={}>,\n",
       " <Experiment: artifact_location='./mlruns/1', experiment_id='1', lifecycle_stage='active', name='nyc-taxi-experiment', tags={}>,\n",
       " <Experiment: artifact_location='./mlruns/2', experiment_id='2', lifecycle_stage='active', name='random-forest-regressor', tags={}>,\n",
       " <Experiment: artifact_location='artifacts/3', experiment_id='3', lifecycle_stage='active', name='random-forest-hyperopt', tags={}>]"
      ]
     },
     "execution_count": 2,
     "metadata": {},
     "output_type": "execute_result"
    }
   ],
   "source": [
    "client = MlflowClient(tracking_uri=MLFLOW_TRACKING_URI)\n",
    "\n",
    "client.list_experiments()"
   ]
  },
  {
   "cell_type": "code",
   "execution_count": 3,
   "metadata": {},
   "outputs": [
    {
     "data": {
      "text/plain": [
       "'2'"
      ]
     },
     "execution_count": 3,
     "metadata": {},
     "output_type": "execute_result"
    }
   ],
   "source": [
    "client.create_experiment(name=\"my-cool-experiment\")"
   ]
  },
  {
   "cell_type": "code",
   "execution_count": 4,
   "metadata": {},
   "outputs": [
    {
     "data": {
      "text/plain": [
       "[<Experiment: artifact_location='./mlruns/0', experiment_id='0', lifecycle_stage='active', name='Default', tags={}>,\n",
       " <Experiment: artifact_location='./mlruns/1', experiment_id='1', lifecycle_stage='active', name='nyc-taxi-experiment', tags={}>,\n",
       " <Experiment: artifact_location='./mlruns/2', experiment_id='2', lifecycle_stage='active', name='my-cool-experiment', tags={}>]"
      ]
     },
     "execution_count": 4,
     "metadata": {},
     "output_type": "execute_result"
    }
   ],
   "source": [
    "client.list_experiments()"
   ]
  },
  {
   "cell_type": "markdown",
   "metadata": {},
   "source": [
    "Let's check the latest versions for the experiment with id `1`..."
   ]
  },
  {
   "cell_type": "code",
   "execution_count": 3,
   "metadata": {},
   "outputs": [],
   "source": [
    "from mlflow.entities import ViewType\n",
    "\n",
    "runs = client.search_runs(\n",
    "    experiment_ids='3',\n",
    "    filter_string=\"metrics.rmse < 7\",\n",
    "    run_view_type=ViewType.ACTIVE_ONLY,\n",
    "    max_results=5,\n",
    "    order_by=[\"metrics.rmse ASC\"]\n",
    ")"
   ]
  },
  {
   "cell_type": "code",
   "execution_count": 4,
   "metadata": {},
   "outputs": [
    {
     "name": "stdout",
     "output_type": "stream",
     "text": [
      "run id: e3a6c169dd9341b3903607220cc2411c, rmse: 6.6284\n",
      "run id: b6014567a4bb4ab49fe96634ef93956a, rmse: 6.6297\n",
      "run id: 6eadf84318144ef884f29166083a9a63, rmse: 6.6299\n",
      "run id: aba18fcf1e3442ae8df9ec4df85281b1, rmse: 6.6299\n",
      "run id: dbb35df8daf14e20a28d0693024a5abb, rmse: 6.6299\n"
     ]
    }
   ],
   "source": [
    "for run in runs:\n",
    "    print(f\"run id: {run.info.run_id}, rmse: {run.data.metrics['rmse']:.4f}\")"
   ]
  },
  {
   "cell_type": "code",
   "execution_count": 7,
   "metadata": {},
   "outputs": [
    {
     "ename": "MlflowException",
     "evalue": "Model Registry features are not supported by the store with URI: 'file:///D:/Document/Personal-Codes/14-MLOps-DataTalksClub/mlops-zoomcamp/personal-notebooks/02-experiment-tracking/mlruns'. Stores with the following URI schemes are supported: ['databricks', 'http', 'https', 'postgresql', 'mysql', 'sqlite', 'mssql'].",
     "output_type": "error",
     "traceback": [
      "\u001b[1;31m---------------------------------------------------------------------------\u001b[0m",
      "\u001b[1;31mKeyError\u001b[0m                                  Traceback (most recent call last)",
      "File \u001b[1;32md:\\Document\\Personal-Codes\\14-MLOps-DataTalksClub\\mlops-zoomcamp\\base\\lib\\site-packages\\mlflow\\tracking\\registry.py:76\u001b[0m, in \u001b[0;36mStoreRegistry.get_store_builder\u001b[1;34m(self, store_uri)\u001b[0m\n\u001b[0;32m     <a href='file:///d%3A/Document/Personal-Codes/14-MLOps-DataTalksClub/mlops-zoomcamp/base/lib/site-packages/mlflow/tracking/registry.py?line=74'>75</a>\u001b[0m \u001b[39mtry\u001b[39;00m:\n\u001b[1;32m---> <a href='file:///d%3A/Document/Personal-Codes/14-MLOps-DataTalksClub/mlops-zoomcamp/base/lib/site-packages/mlflow/tracking/registry.py?line=75'>76</a>\u001b[0m     store_builder \u001b[39m=\u001b[39m \u001b[39mself\u001b[39;49m\u001b[39m.\u001b[39;49m_registry[scheme]\n\u001b[0;32m     <a href='file:///d%3A/Document/Personal-Codes/14-MLOps-DataTalksClub/mlops-zoomcamp/base/lib/site-packages/mlflow/tracking/registry.py?line=76'>77</a>\u001b[0m \u001b[39mexcept\u001b[39;00m \u001b[39mKeyError\u001b[39;00m:\n",
      "\u001b[1;31mKeyError\u001b[0m: 'file'",
      "\nDuring handling of the above exception, another exception occurred:\n",
      "\u001b[1;31mUnsupportedModelRegistryStoreURIException\u001b[0m Traceback (most recent call last)",
      "File \u001b[1;32md:\\Document\\Personal-Codes\\14-MLOps-DataTalksClub\\mlops-zoomcamp\\base\\lib\\site-packages\\mlflow\\tracking\\client.py:95\u001b[0m, in \u001b[0;36mMlflowClient._get_registry_client\u001b[1;34m(self)\u001b[0m\n\u001b[0;32m     <a href='file:///d%3A/Document/Personal-Codes/14-MLOps-DataTalksClub/mlops-zoomcamp/base/lib/site-packages/mlflow/tracking/client.py?line=93'>94</a>\u001b[0m \u001b[39mtry\u001b[39;00m:\n\u001b[1;32m---> <a href='file:///d%3A/Document/Personal-Codes/14-MLOps-DataTalksClub/mlops-zoomcamp/base/lib/site-packages/mlflow/tracking/client.py?line=94'>95</a>\u001b[0m     registry_client \u001b[39m=\u001b[39m ModelRegistryClient(\u001b[39mself\u001b[39;49m\u001b[39m.\u001b[39;49m_registry_uri)\n\u001b[0;32m     <a href='file:///d%3A/Document/Personal-Codes/14-MLOps-DataTalksClub/mlops-zoomcamp/base/lib/site-packages/mlflow/tracking/client.py?line=95'>96</a>\u001b[0m     \u001b[39m# Define an instance variable on this `MlflowClient` instance to reference the\u001b[39;00m\n\u001b[0;32m     <a href='file:///d%3A/Document/Personal-Codes/14-MLOps-DataTalksClub/mlops-zoomcamp/base/lib/site-packages/mlflow/tracking/client.py?line=96'>97</a>\u001b[0m     \u001b[39m# `ModelRegistryClient` that was just constructed. `setattr()` is used to ensure\u001b[39;00m\n\u001b[0;32m     <a href='file:///d%3A/Document/Personal-Codes/14-MLOps-DataTalksClub/mlops-zoomcamp/base/lib/site-packages/mlflow/tracking/client.py?line=97'>98</a>\u001b[0m     \u001b[39m# that the variable name is consistent with the variable name specified in the\u001b[39;00m\n\u001b[0;32m     <a href='file:///d%3A/Document/Personal-Codes/14-MLOps-DataTalksClub/mlops-zoomcamp/base/lib/site-packages/mlflow/tracking/client.py?line=98'>99</a>\u001b[0m     \u001b[39m# preceding call to `getattr()`\u001b[39;00m\n",
      "File \u001b[1;32md:\\Document\\Personal-Codes\\14-MLOps-DataTalksClub\\mlops-zoomcamp\\base\\lib\\site-packages\\mlflow\\tracking\\_model_registry\\client.py:36\u001b[0m, in \u001b[0;36mModelRegistryClient.__init__\u001b[1;34m(self, registry_uri)\u001b[0m\n\u001b[0;32m     <a href='file:///d%3A/Document/Personal-Codes/14-MLOps-DataTalksClub/mlops-zoomcamp/base/lib/site-packages/mlflow/tracking/_model_registry/client.py?line=32'>33</a>\u001b[0m \u001b[39m# NB: Fetch the tracking store (`self.store`) upon client initialization to ensure that\u001b[39;00m\n\u001b[0;32m     <a href='file:///d%3A/Document/Personal-Codes/14-MLOps-DataTalksClub/mlops-zoomcamp/base/lib/site-packages/mlflow/tracking/_model_registry/client.py?line=33'>34</a>\u001b[0m \u001b[39m# the tracking URI is valid and the store can be properly resolved. We define `store` as a\u001b[39;00m\n\u001b[0;32m     <a href='file:///d%3A/Document/Personal-Codes/14-MLOps-DataTalksClub/mlops-zoomcamp/base/lib/site-packages/mlflow/tracking/_model_registry/client.py?line=34'>35</a>\u001b[0m \u001b[39m# property method to ensure that the client is serializable, even if the store is not\u001b[39;00m\n\u001b[1;32m---> <a href='file:///d%3A/Document/Personal-Codes/14-MLOps-DataTalksClub/mlops-zoomcamp/base/lib/site-packages/mlflow/tracking/_model_registry/client.py?line=35'>36</a>\u001b[0m \u001b[39mself\u001b[39;49m\u001b[39m.\u001b[39;49mstore\n",
      "File \u001b[1;32md:\\Document\\Personal-Codes\\14-MLOps-DataTalksClub\\mlops-zoomcamp\\base\\lib\\site-packages\\mlflow\\tracking\\_model_registry\\client.py:40\u001b[0m, in \u001b[0;36mModelRegistryClient.store\u001b[1;34m(self)\u001b[0m\n\u001b[0;32m     <a href='file:///d%3A/Document/Personal-Codes/14-MLOps-DataTalksClub/mlops-zoomcamp/base/lib/site-packages/mlflow/tracking/_model_registry/client.py?line=37'>38</a>\u001b[0m \u001b[39m@property\u001b[39m\n\u001b[0;32m     <a href='file:///d%3A/Document/Personal-Codes/14-MLOps-DataTalksClub/mlops-zoomcamp/base/lib/site-packages/mlflow/tracking/_model_registry/client.py?line=38'>39</a>\u001b[0m \u001b[39mdef\u001b[39;00m \u001b[39mstore\u001b[39m(\u001b[39mself\u001b[39m):\n\u001b[1;32m---> <a href='file:///d%3A/Document/Personal-Codes/14-MLOps-DataTalksClub/mlops-zoomcamp/base/lib/site-packages/mlflow/tracking/_model_registry/client.py?line=39'>40</a>\u001b[0m     \u001b[39mreturn\u001b[39;00m utils\u001b[39m.\u001b[39;49m_get_store(\u001b[39mself\u001b[39;49m\u001b[39m.\u001b[39;49mregistry_uri)\n",
      "File \u001b[1;32md:\\Document\\Personal-Codes\\14-MLOps-DataTalksClub\\mlops-zoomcamp\\base\\lib\\site-packages\\mlflow\\tracking\\_model_registry\\utils.py:169\u001b[0m, in \u001b[0;36m_get_store\u001b[1;34m(store_uri)\u001b[0m\n\u001b[0;32m    <a href='file:///d%3A/Document/Personal-Codes/14-MLOps-DataTalksClub/mlops-zoomcamp/base/lib/site-packages/mlflow/tracking/_model_registry/utils.py?line=167'>168</a>\u001b[0m \u001b[39mdef\u001b[39;00m \u001b[39m_get_store\u001b[39m(store_uri\u001b[39m=\u001b[39m\u001b[39mNone\u001b[39;00m):\n\u001b[1;32m--> <a href='file:///d%3A/Document/Personal-Codes/14-MLOps-DataTalksClub/mlops-zoomcamp/base/lib/site-packages/mlflow/tracking/_model_registry/utils.py?line=168'>169</a>\u001b[0m     \u001b[39mreturn\u001b[39;00m _get_store_registry()\u001b[39m.\u001b[39;49mget_store(store_uri)\n",
      "File \u001b[1;32md:\\Document\\Personal-Codes\\14-MLOps-DataTalksClub\\mlops-zoomcamp\\base\\lib\\site-packages\\mlflow\\tracking\\_model_registry\\registry.py:37\u001b[0m, in \u001b[0;36mModelRegistryStoreRegistry.get_store\u001b[1;34m(self, store_uri)\u001b[0m\n\u001b[0;32m     <a href='file:///d%3A/Document/Personal-Codes/14-MLOps-DataTalksClub/mlops-zoomcamp/base/lib/site-packages/mlflow/tracking/_model_registry/registry.py?line=35'>36</a>\u001b[0m resolved_store_uri \u001b[39m=\u001b[39m utils\u001b[39m.\u001b[39m_resolve_registry_uri(store_uri)\n\u001b[1;32m---> <a href='file:///d%3A/Document/Personal-Codes/14-MLOps-DataTalksClub/mlops-zoomcamp/base/lib/site-packages/mlflow/tracking/_model_registry/registry.py?line=36'>37</a>\u001b[0m \u001b[39mreturn\u001b[39;00m \u001b[39mself\u001b[39;49m\u001b[39m.\u001b[39;49m_get_store_with_resolved_uri(resolved_store_uri)\n",
      "File \u001b[1;32md:\\Document\\Personal-Codes\\14-MLOps-DataTalksClub\\mlops-zoomcamp\\base\\lib\\site-packages\\mlflow\\tracking\\_model_registry\\registry.py:46\u001b[0m, in \u001b[0;36mModelRegistryStoreRegistry._get_store_with_resolved_uri\u001b[1;34m(self, resolved_store_uri)\u001b[0m\n\u001b[0;32m     <a href='file:///d%3A/Document/Personal-Codes/14-MLOps-DataTalksClub/mlops-zoomcamp/base/lib/site-packages/mlflow/tracking/_model_registry/registry.py?line=40'>41</a>\u001b[0m \u001b[39m\"\"\"\u001b[39;00m\n\u001b[0;32m     <a href='file:///d%3A/Document/Personal-Codes/14-MLOps-DataTalksClub/mlops-zoomcamp/base/lib/site-packages/mlflow/tracking/_model_registry/registry.py?line=41'>42</a>\u001b[0m \u001b[39mRetrieve the store associated with a resolved (non-None) store URI and an artifact URI.\u001b[39;00m\n\u001b[0;32m     <a href='file:///d%3A/Document/Personal-Codes/14-MLOps-DataTalksClub/mlops-zoomcamp/base/lib/site-packages/mlflow/tracking/_model_registry/registry.py?line=42'>43</a>\u001b[0m \u001b[39mCaching is done on resolved URIs because the meaning of an unresolved (None) URI may change\u001b[39;00m\n\u001b[0;32m     <a href='file:///d%3A/Document/Personal-Codes/14-MLOps-DataTalksClub/mlops-zoomcamp/base/lib/site-packages/mlflow/tracking/_model_registry/registry.py?line=43'>44</a>\u001b[0m \u001b[39mdepending on external configuration, such as environment variables\u001b[39;00m\n\u001b[0;32m     <a href='file:///d%3A/Document/Personal-Codes/14-MLOps-DataTalksClub/mlops-zoomcamp/base/lib/site-packages/mlflow/tracking/_model_registry/registry.py?line=44'>45</a>\u001b[0m \u001b[39m\"\"\"\u001b[39;00m\n\u001b[1;32m---> <a href='file:///d%3A/Document/Personal-Codes/14-MLOps-DataTalksClub/mlops-zoomcamp/base/lib/site-packages/mlflow/tracking/_model_registry/registry.py?line=45'>46</a>\u001b[0m builder \u001b[39m=\u001b[39m \u001b[39mself\u001b[39;49m\u001b[39m.\u001b[39;49mget_store_builder(resolved_store_uri)\n\u001b[0;32m     <a href='file:///d%3A/Document/Personal-Codes/14-MLOps-DataTalksClub/mlops-zoomcamp/base/lib/site-packages/mlflow/tracking/_model_registry/registry.py?line=46'>47</a>\u001b[0m \u001b[39mreturn\u001b[39;00m builder(store_uri\u001b[39m=\u001b[39mresolved_store_uri)\n",
      "File \u001b[1;32md:\\Document\\Personal-Codes\\14-MLOps-DataTalksClub\\mlops-zoomcamp\\base\\lib\\site-packages\\mlflow\\tracking\\registry.py:78\u001b[0m, in \u001b[0;36mStoreRegistry.get_store_builder\u001b[1;34m(self, store_uri)\u001b[0m\n\u001b[0;32m     <a href='file:///d%3A/Document/Personal-Codes/14-MLOps-DataTalksClub/mlops-zoomcamp/base/lib/site-packages/mlflow/tracking/registry.py?line=76'>77</a>\u001b[0m \u001b[39mexcept\u001b[39;00m \u001b[39mKeyError\u001b[39;00m:\n\u001b[1;32m---> <a href='file:///d%3A/Document/Personal-Codes/14-MLOps-DataTalksClub/mlops-zoomcamp/base/lib/site-packages/mlflow/tracking/registry.py?line=77'>78</a>\u001b[0m     \u001b[39mraise\u001b[39;00m UnsupportedModelRegistryStoreURIException(\n\u001b[0;32m     <a href='file:///d%3A/Document/Personal-Codes/14-MLOps-DataTalksClub/mlops-zoomcamp/base/lib/site-packages/mlflow/tracking/registry.py?line=78'>79</a>\u001b[0m         unsupported_uri\u001b[39m=\u001b[39mstore_uri, supported_uri_schemes\u001b[39m=\u001b[39m\u001b[39mlist\u001b[39m(\u001b[39mself\u001b[39m\u001b[39m.\u001b[39m_registry\u001b[39m.\u001b[39mkeys())\n\u001b[0;32m     <a href='file:///d%3A/Document/Personal-Codes/14-MLOps-DataTalksClub/mlops-zoomcamp/base/lib/site-packages/mlflow/tracking/registry.py?line=79'>80</a>\u001b[0m     )\n\u001b[0;32m     <a href='file:///d%3A/Document/Personal-Codes/14-MLOps-DataTalksClub/mlops-zoomcamp/base/lib/site-packages/mlflow/tracking/registry.py?line=80'>81</a>\u001b[0m \u001b[39mreturn\u001b[39;00m store_builder\n",
      "\u001b[1;31mUnsupportedModelRegistryStoreURIException\u001b[0m:  Model registry functionality is unavailable; got unsupported URI 'file:///D:/Document/Personal-Codes/14-MLOps-DataTalksClub/mlops-zoomcamp/personal-notebooks/02-experiment-tracking/mlruns' for model registry data storage. Supported URI schemes are: ['databricks', 'http', 'https', 'postgresql', 'mysql', 'sqlite', 'mssql']. See https://www.mlflow.org/docs/latest/tracking.html#storage for how to run an MLflow server against one of the supported backend storage locations.",
      "\nDuring handling of the above exception, another exception occurred:\n",
      "\u001b[1;31mMlflowException\u001b[0m                           Traceback (most recent call last)",
      "\u001b[1;32md:\\Document\\Personal-Codes\\14-MLOps-DataTalksClub\\mlops-zoomcamp\\personal-notebooks\\02-experiment-tracking\\model-registry.ipynb Cell 10'\u001b[0m in \u001b[0;36m<cell line: 6>\u001b[1;34m()\u001b[0m\n\u001b[0;32m      <a href='vscode-notebook-cell:/d%3A/Document/Personal-Codes/14-MLOps-DataTalksClub/mlops-zoomcamp/personal-notebooks/02-experiment-tracking/model-registry.ipynb#ch0000026?line=3'>4</a>\u001b[0m \u001b[39m# register the best model\u001b[39;00m\n\u001b[0;32m      <a href='vscode-notebook-cell:/d%3A/Document/Personal-Codes/14-MLOps-DataTalksClub/mlops-zoomcamp/personal-notebooks/02-experiment-tracking/model-registry.ipynb#ch0000026?line=4'>5</a>\u001b[0m best_run_uri \u001b[39m=\u001b[39m \u001b[39mf\u001b[39m\u001b[39m\"\u001b[39m\u001b[39mruns:/\u001b[39m\u001b[39m{\u001b[39;00mbest_run\u001b[39m.\u001b[39minfo\u001b[39m.\u001b[39mrun_id\u001b[39m}\u001b[39;00m\u001b[39m/model\u001b[39m\u001b[39m\"\u001b[39m\n\u001b[1;32m----> <a href='vscode-notebook-cell:/d%3A/Document/Personal-Codes/14-MLOps-DataTalksClub/mlops-zoomcamp/personal-notebooks/02-experiment-tracking/model-registry.ipynb#ch0000026?line=5'>6</a>\u001b[0m mlflow\u001b[39m.\u001b[39;49mregister_model(best_run_uri, \u001b[39m\"\u001b[39;49m\u001b[39mbest-model\u001b[39;49m\u001b[39m\"\u001b[39;49m)\n",
      "File \u001b[1;32md:\\Document\\Personal-Codes\\14-MLOps-DataTalksClub\\mlops-zoomcamp\\base\\lib\\site-packages\\mlflow\\tracking\\_model_registry\\fluent.py:67\u001b[0m, in \u001b[0;36mregister_model\u001b[1;34m(model_uri, name, await_registration_for)\u001b[0m\n\u001b[0;32m     <a href='file:///d%3A/Document/Personal-Codes/14-MLOps-DataTalksClub/mlops-zoomcamp/base/lib/site-packages/mlflow/tracking/_model_registry/fluent.py?line=61'>62</a>\u001b[0m         eprint(\n\u001b[0;32m     <a href='file:///d%3A/Document/Personal-Codes/14-MLOps-DataTalksClub/mlops-zoomcamp/base/lib/site-packages/mlflow/tracking/_model_registry/fluent.py?line=62'>63</a>\u001b[0m             \u001b[39m\"\u001b[39m\u001b[39mRegistered model \u001b[39m\u001b[39m'\u001b[39m\u001b[39m%s\u001b[39;00m\u001b[39m'\u001b[39m\u001b[39m already exists. Creating a new version of this model...\u001b[39m\u001b[39m\"\u001b[39m\n\u001b[0;32m     <a href='file:///d%3A/Document/Personal-Codes/14-MLOps-DataTalksClub/mlops-zoomcamp/base/lib/site-packages/mlflow/tracking/_model_registry/fluent.py?line=63'>64</a>\u001b[0m             \u001b[39m%\u001b[39m name\n\u001b[0;32m     <a href='file:///d%3A/Document/Personal-Codes/14-MLOps-DataTalksClub/mlops-zoomcamp/base/lib/site-packages/mlflow/tracking/_model_registry/fluent.py?line=64'>65</a>\u001b[0m         )\n\u001b[0;32m     <a href='file:///d%3A/Document/Personal-Codes/14-MLOps-DataTalksClub/mlops-zoomcamp/base/lib/site-packages/mlflow/tracking/_model_registry/fluent.py?line=65'>66</a>\u001b[0m     \u001b[39melse\u001b[39;00m:\n\u001b[1;32m---> <a href='file:///d%3A/Document/Personal-Codes/14-MLOps-DataTalksClub/mlops-zoomcamp/base/lib/site-packages/mlflow/tracking/_model_registry/fluent.py?line=66'>67</a>\u001b[0m         \u001b[39mraise\u001b[39;00m e\n\u001b[0;32m     <a href='file:///d%3A/Document/Personal-Codes/14-MLOps-DataTalksClub/mlops-zoomcamp/base/lib/site-packages/mlflow/tracking/_model_registry/fluent.py?line=68'>69</a>\u001b[0m \u001b[39mif\u001b[39;00m RunsArtifactRepository\u001b[39m.\u001b[39mis_runs_uri(model_uri):\n\u001b[0;32m     <a href='file:///d%3A/Document/Personal-Codes/14-MLOps-DataTalksClub/mlops-zoomcamp/base/lib/site-packages/mlflow/tracking/_model_registry/fluent.py?line=69'>70</a>\u001b[0m     source \u001b[39m=\u001b[39m RunsArtifactRepository\u001b[39m.\u001b[39mget_underlying_uri(model_uri)\n",
      "File \u001b[1;32md:\\Document\\Personal-Codes\\14-MLOps-DataTalksClub\\mlops-zoomcamp\\base\\lib\\site-packages\\mlflow\\tracking\\_model_registry\\fluent.py:58\u001b[0m, in \u001b[0;36mregister_model\u001b[1;34m(model_uri, name, await_registration_for)\u001b[0m\n\u001b[0;32m     <a href='file:///d%3A/Document/Personal-Codes/14-MLOps-DataTalksClub/mlops-zoomcamp/base/lib/site-packages/mlflow/tracking/_model_registry/fluent.py?line=55'>56</a>\u001b[0m client \u001b[39m=\u001b[39m MlflowClient()\n\u001b[0;32m     <a href='file:///d%3A/Document/Personal-Codes/14-MLOps-DataTalksClub/mlops-zoomcamp/base/lib/site-packages/mlflow/tracking/_model_registry/fluent.py?line=56'>57</a>\u001b[0m \u001b[39mtry\u001b[39;00m:\n\u001b[1;32m---> <a href='file:///d%3A/Document/Personal-Codes/14-MLOps-DataTalksClub/mlops-zoomcamp/base/lib/site-packages/mlflow/tracking/_model_registry/fluent.py?line=57'>58</a>\u001b[0m     create_model_response \u001b[39m=\u001b[39m client\u001b[39m.\u001b[39;49mcreate_registered_model(name)\n\u001b[0;32m     <a href='file:///d%3A/Document/Personal-Codes/14-MLOps-DataTalksClub/mlops-zoomcamp/base/lib/site-packages/mlflow/tracking/_model_registry/fluent.py?line=58'>59</a>\u001b[0m     eprint(\u001b[39m\"\u001b[39m\u001b[39mSuccessfully registered model \u001b[39m\u001b[39m'\u001b[39m\u001b[39m%s\u001b[39;00m\u001b[39m'\u001b[39m\u001b[39m.\u001b[39m\u001b[39m\"\u001b[39m \u001b[39m%\u001b[39m create_model_response\u001b[39m.\u001b[39mname)\n\u001b[0;32m     <a href='file:///d%3A/Document/Personal-Codes/14-MLOps-DataTalksClub/mlops-zoomcamp/base/lib/site-packages/mlflow/tracking/_model_registry/fluent.py?line=59'>60</a>\u001b[0m \u001b[39mexcept\u001b[39;00m MlflowException \u001b[39mas\u001b[39;00m e:\n",
      "File \u001b[1;32md:\\Document\\Personal-Codes\\14-MLOps-DataTalksClub\\mlops-zoomcamp\\base\\lib\\site-packages\\mlflow\\tracking\\client.py:1658\u001b[0m, in \u001b[0;36mMlflowClient.create_registered_model\u001b[1;34m(self, name, tags, description)\u001b[0m\n\u001b[0;32m   <a href='file:///d%3A/Document/Personal-Codes/14-MLOps-DataTalksClub/mlops-zoomcamp/base/lib/site-packages/mlflow/tracking/client.py?line=1617'>1618</a>\u001b[0m \u001b[39mdef\u001b[39;00m \u001b[39mcreate_registered_model\u001b[39m(\n\u001b[0;32m   <a href='file:///d%3A/Document/Personal-Codes/14-MLOps-DataTalksClub/mlops-zoomcamp/base/lib/site-packages/mlflow/tracking/client.py?line=1618'>1619</a>\u001b[0m     \u001b[39mself\u001b[39m, name: \u001b[39mstr\u001b[39m, tags: Optional[Dict[\u001b[39mstr\u001b[39m, Any]] \u001b[39m=\u001b[39m \u001b[39mNone\u001b[39;00m, description: Optional[\u001b[39mstr\u001b[39m] \u001b[39m=\u001b[39m \u001b[39mNone\u001b[39;00m\n\u001b[0;32m   <a href='file:///d%3A/Document/Personal-Codes/14-MLOps-DataTalksClub/mlops-zoomcamp/base/lib/site-packages/mlflow/tracking/client.py?line=1619'>1620</a>\u001b[0m ) \u001b[39m-\u001b[39m\u001b[39m>\u001b[39m RegisteredModel:\n\u001b[0;32m   <a href='file:///d%3A/Document/Personal-Codes/14-MLOps-DataTalksClub/mlops-zoomcamp/base/lib/site-packages/mlflow/tracking/client.py?line=1620'>1621</a>\u001b[0m     \u001b[39m\"\"\"\u001b[39;00m\n\u001b[0;32m   <a href='file:///d%3A/Document/Personal-Codes/14-MLOps-DataTalksClub/mlops-zoomcamp/base/lib/site-packages/mlflow/tracking/client.py?line=1621'>1622</a>\u001b[0m \u001b[39m    Create a new registered model in backend store.\u001b[39;00m\n\u001b[0;32m   <a href='file:///d%3A/Document/Personal-Codes/14-MLOps-DataTalksClub/mlops-zoomcamp/base/lib/site-packages/mlflow/tracking/client.py?line=1622'>1623</a>\u001b[0m \n\u001b[1;32m   (...)\u001b[0m\n\u001b[0;32m   <a href='file:///d%3A/Document/Personal-Codes/14-MLOps-DataTalksClub/mlops-zoomcamp/base/lib/site-packages/mlflow/tracking/client.py?line=1655'>1656</a>\u001b[0m \u001b[39m        description: This sentiment analysis model classifies the tone-happy, sad, angry.\u001b[39;00m\n\u001b[0;32m   <a href='file:///d%3A/Document/Personal-Codes/14-MLOps-DataTalksClub/mlops-zoomcamp/base/lib/site-packages/mlflow/tracking/client.py?line=1656'>1657</a>\u001b[0m \u001b[39m    \"\"\"\u001b[39;00m\n\u001b[1;32m-> <a href='file:///d%3A/Document/Personal-Codes/14-MLOps-DataTalksClub/mlops-zoomcamp/base/lib/site-packages/mlflow/tracking/client.py?line=1657'>1658</a>\u001b[0m     \u001b[39mreturn\u001b[39;00m \u001b[39mself\u001b[39;49m\u001b[39m.\u001b[39;49m_get_registry_client()\u001b[39m.\u001b[39mcreate_registered_model(name, tags, description)\n",
      "File \u001b[1;32md:\\Document\\Personal-Codes\\14-MLOps-DataTalksClub\\mlops-zoomcamp\\base\\lib\\site-packages\\mlflow\\tracking\\client.py:102\u001b[0m, in \u001b[0;36mMlflowClient._get_registry_client\u001b[1;34m(self)\u001b[0m\n\u001b[0;32m    <a href='file:///d%3A/Document/Personal-Codes/14-MLOps-DataTalksClub/mlops-zoomcamp/base/lib/site-packages/mlflow/tracking/client.py?line=99'>100</a>\u001b[0m         \u001b[39msetattr\u001b[39m(\u001b[39mself\u001b[39m, registry_client_attr, registry_client)\n\u001b[0;32m    <a href='file:///d%3A/Document/Personal-Codes/14-MLOps-DataTalksClub/mlops-zoomcamp/base/lib/site-packages/mlflow/tracking/client.py?line=100'>101</a>\u001b[0m     \u001b[39mexcept\u001b[39;00m UnsupportedModelRegistryStoreURIException \u001b[39mas\u001b[39;00m exc:\n\u001b[1;32m--> <a href='file:///d%3A/Document/Personal-Codes/14-MLOps-DataTalksClub/mlops-zoomcamp/base/lib/site-packages/mlflow/tracking/client.py?line=101'>102</a>\u001b[0m         \u001b[39mraise\u001b[39;00m MlflowException(\n\u001b[0;32m    <a href='file:///d%3A/Document/Personal-Codes/14-MLOps-DataTalksClub/mlops-zoomcamp/base/lib/site-packages/mlflow/tracking/client.py?line=102'>103</a>\u001b[0m             \u001b[39m\"\u001b[39m\u001b[39mModel Registry features are not supported by the store with URI:\u001b[39m\u001b[39m\"\u001b[39m\n\u001b[0;32m    <a href='file:///d%3A/Document/Personal-Codes/14-MLOps-DataTalksClub/mlops-zoomcamp/base/lib/site-packages/mlflow/tracking/client.py?line=103'>104</a>\u001b[0m             \u001b[39m\"\u001b[39m\u001b[39m \u001b[39m\u001b[39m'\u001b[39m\u001b[39m{uri}\u001b[39;00m\u001b[39m'\u001b[39m\u001b[39m. Stores with the following URI schemes are supported:\u001b[39m\u001b[39m\"\u001b[39m\n\u001b[0;32m    <a href='file:///d%3A/Document/Personal-Codes/14-MLOps-DataTalksClub/mlops-zoomcamp/base/lib/site-packages/mlflow/tracking/client.py?line=104'>105</a>\u001b[0m             \u001b[39m\"\u001b[39m\u001b[39m \u001b[39m\u001b[39m{schemes}\u001b[39;00m\u001b[39m.\u001b[39m\u001b[39m\"\u001b[39m\u001b[39m.\u001b[39mformat(uri\u001b[39m=\u001b[39m\u001b[39mself\u001b[39m\u001b[39m.\u001b[39m_registry_uri, schemes\u001b[39m=\u001b[39mexc\u001b[39m.\u001b[39msupported_uri_schemes),\n\u001b[0;32m    <a href='file:///d%3A/Document/Personal-Codes/14-MLOps-DataTalksClub/mlops-zoomcamp/base/lib/site-packages/mlflow/tracking/client.py?line=105'>106</a>\u001b[0m             FEATURE_DISABLED,\n\u001b[0;32m    <a href='file:///d%3A/Document/Personal-Codes/14-MLOps-DataTalksClub/mlops-zoomcamp/base/lib/site-packages/mlflow/tracking/client.py?line=106'>107</a>\u001b[0m         )\n\u001b[0;32m    <a href='file:///d%3A/Document/Personal-Codes/14-MLOps-DataTalksClub/mlops-zoomcamp/base/lib/site-packages/mlflow/tracking/client.py?line=107'>108</a>\u001b[0m \u001b[39mreturn\u001b[39;00m registry_client\n",
      "\u001b[1;31mMlflowException\u001b[0m: Model Registry features are not supported by the store with URI: 'file:///D:/Document/Personal-Codes/14-MLOps-DataTalksClub/mlops-zoomcamp/personal-notebooks/02-experiment-tracking/mlruns'. Stores with the following URI schemes are supported: ['databricks', 'http', 'https', 'postgresql', 'mysql', 'sqlite', 'mssql']."
     ]
    }
   ],
   "source": [
    "import mlflow\n",
    "best_run = runs[0]\n",
    "\n",
    "# register the best model\n",
    "best_run_uri = f\"runs:/{best_run.info.run_id}/model\"\n",
    "mlflow.register_model(best_run_uri, \"best-model\")"
   ]
  },
  {
   "cell_type": "code",
   "execution_count": 11,
   "metadata": {},
   "outputs": [
    {
     "data": {
      "text/plain": [
       "str"
      ]
     },
     "execution_count": 11,
     "metadata": {},
     "output_type": "execute_result"
    }
   ],
   "source": [
    "type(runs[0].info.run_id)"
   ]
  },
  {
   "cell_type": "markdown",
   "metadata": {},
   "source": [
    "### Interacting with the Model Registry\n",
    "\n",
    "In this section We will use the `MlflowClient` instance to:\n",
    "\n",
    "1. Register a new version for the experiment `nyc-taxi-regressor`\n",
    "2. Retrieve the latests versions of the model `nyc-taxi-regressor` and check that a new version `4` was created.\n",
    "3. Transition the version `4` to \"Staging\" and adding annotations to it."
   ]
  },
  {
   "cell_type": "code",
   "execution_count": 12,
   "metadata": {},
   "outputs": [],
   "source": [
    "import mlflow\n",
    "\n",
    "mlflow.set_tracking_uri(MLFLOW_TRACKING_URI)"
   ]
  },
  {
   "cell_type": "code",
   "execution_count": 13,
   "metadata": {},
   "outputs": [
    {
     "name": "stderr",
     "output_type": "stream",
     "text": [
      "Registered model 'nyc-taxi-regressor' already exists. Creating a new version of this model...\n",
      "2022/05/26 21:24:15 INFO mlflow.tracking._model_registry.client: Waiting up to 300 seconds for model version to finish creation.                     Model name: nyc-taxi-regressor, version 3\n",
      "Created version '3' of model 'nyc-taxi-regressor'.\n"
     ]
    },
    {
     "data": {
      "text/plain": [
       "<ModelVersion: creation_timestamp=1653575055633, current_stage='None', description=None, last_updated_timestamp=1653575055633, name='nyc-taxi-regressor', run_id='bb1a2740440a444a8231d91d5f027e92', run_link=None, source='./mlruns/1/bb1a2740440a444a8231d91d5f027e92/artifacts/model', status='READY', status_message=None, tags={}, user_id=None, version=3>"
      ]
     },
     "execution_count": 13,
     "metadata": {},
     "output_type": "execute_result"
    }
   ],
   "source": [
    "run_id = runs[0].info.run_id\n",
    "model_uri = f\"runs:/{run_id}/model\"\n",
    "mlflow.register_model(model_uri=model_uri, name=\"nyc-taxi-regressor\")"
   ]
  },
  {
   "cell_type": "code",
   "execution_count": 31,
   "metadata": {},
   "outputs": [
    {
     "name": "stdout",
     "output_type": "stream",
     "text": [
      "version: 1, stage: Archived\n",
      "version: 2, stage: Production\n",
      "version: 3, stage: Staging\n"
     ]
    }
   ],
   "source": [
    "model_name = \"nyc-taxi-regressor\"\n",
    "latest_versions = client.get_latest_versions(name=model_name)\n",
    "\n",
    "for version in latest_versions:\n",
    "    print(f\"version: {version.version}, stage: {version.current_stage}\")"
   ]
  },
  {
   "cell_type": "code",
   "execution_count": 29,
   "metadata": {},
   "outputs": [
    {
     "data": {
      "text/plain": [
       "<ModelVersion: creation_timestamp=1653574346365, current_stage='Production', description='The model version 3 was transitioned to Production', last_updated_timestamp=1653579861226, name='nyc-taxi-regressor', run_id='3f72ed3d9d9f4a8f8c7bf3d1c0415996', run_link='', source='./mlruns/1/3f72ed3d9d9f4a8f8c7bf3d1c0415996/artifacts/model', status='READY', status_message=None, tags={'model': 'GradientBoostingRegressor'}, user_id=None, version=2>"
      ]
     },
     "execution_count": 29,
     "metadata": {},
     "output_type": "execute_result"
    }
   ],
   "source": [
    "# Stage version 2 into Production\n",
    "client.transition_model_version_stage(\n",
    "    name=model_name,\n",
    "    version=2,\n",
    "    stage=\"Production\",\n",
    "    archive_existing_versions=True\n",
    ")\n",
    "\n",
    "client.update_model_version(\n",
    "    name=model_name,\n",
    "    version=2,\n",
    "    description=f\"The model version 3 was transitioned to Production\"\n",
    ")"
   ]
  },
  {
   "cell_type": "code",
   "execution_count": 30,
   "metadata": {},
   "outputs": [
    {
     "data": {
      "text/plain": [
       "<ModelVersion: creation_timestamp=1653575055633, current_stage='Staging', description='The model version 3 was transitioned to Production', last_updated_timestamp=1653579863480, name='nyc-taxi-regressor', run_id='bb1a2740440a444a8231d91d5f027e92', run_link=None, source='./mlruns/1/bb1a2740440a444a8231d91d5f027e92/artifacts/model', status='READY', status_message=None, tags={}, user_id=None, version=3>"
      ]
     },
     "execution_count": 30,
     "metadata": {},
     "output_type": "execute_result"
    }
   ],
   "source": [
    "model_version = 3\n",
    "new_stage = \"Staging\"\n",
    "client.transition_model_version_stage(\n",
    "    name=model_name,\n",
    "    version=model_version,\n",
    "    stage=new_stage,\n",
    "    archive_existing_versions=False\n",
    ")"
   ]
  },
  {
   "cell_type": "code",
   "execution_count": 16,
   "metadata": {},
   "outputs": [
    {
     "data": {
      "text/plain": [
       "<ModelVersion: creation_timestamp=1653575055633, current_stage='Staging', description='The model version 3 was transitioned to Staging on 2022-05-26', last_updated_timestamp=1653577738830, name='nyc-taxi-regressor', run_id='bb1a2740440a444a8231d91d5f027e92', run_link=None, source='./mlruns/1/bb1a2740440a444a8231d91d5f027e92/artifacts/model', status='READY', status_message=None, tags={}, user_id=None, version=3>"
      ]
     },
     "execution_count": 16,
     "metadata": {},
     "output_type": "execute_result"
    }
   ],
   "source": [
    "from datetime import datetime\n",
    "\n",
    "date = datetime.today().date()\n",
    "client.update_model_version(\n",
    "    name=model_name,\n",
    "    version=model_version,\n",
    "    description=f\"The model version {model_version} was transitioned to {new_stage} on {date}\"\n",
    ")"
   ]
  },
  {
   "cell_type": "markdown",
   "metadata": {},
   "source": [
    "### Comparing versions and selecting the new \"Production\" model\n",
    "\n",
    "In the last section, we will retrieve models registered in the model registry and compare their performance on an unseen test set. The idea is to simulate the scenario in which a deployment engineer has to interact with the model registry to decide whether to update the model version that is in production or not.\n",
    "\n",
    "These are the steps:\n",
    "\n",
    "1. Load the test dataset, which corresponds to the NYC Green Taxi data from the month of March 2021.\n",
    "2. Download the `DictVectorizer` that was fitted using the training data and saved to MLflow as an artifact, and load it with pickle.\n",
    "3. Preprocess the test set using the `DictVectorizer` so we can properly feed the regressors.\n",
    "4. Make predictions on the test set using the model versions that are currently in the \"Staging\" and \"Production\" stages, and compare their performance.\n",
    "5. Based on the results, update the \"Production\" model version accordingly.\n",
    "\n",
    "\n",
    "**Note: the model registry doesn't actually deploy the model to production when you transition a model to the \"Production\" stage, it just assign a label to that model version. You should complement the registry with some CI/CD code that does the actual deployment.**"
   ]
  },
  {
   "cell_type": "code",
   "execution_count": 17,
   "metadata": {},
   "outputs": [],
   "source": [
    "from sklearn.metrics import mean_squared_error\n",
    "import pandas as pd\n",
    "\n",
    "def read_dataframe(filename: str):\n",
    "    df = pd.read_parquet(filename)\n",
    "\n",
    "    df.lpep_dropoff_datetime = pd.to_datetime(df.lpep_dropoff_datetime)\n",
    "    df.lpep_pickup_datetime = pd.to_datetime(df.lpep_pickup_datetime)\n",
    "\n",
    "    df[\"duration\"] = df.lpep_dropoff_datetime - df.lpep_pickup_datetime\n",
    "    df.duration = df.duration.apply(lambda td: td.total_seconds() / 60)\n",
    "\n",
    "    df = df[(df.duration >= 1) & (df.duration <= 60)]\n",
    "    categorical = ['PULocationID', 'DOLocationID']\n",
    "    df[categorical] = df[categorical].astype(str)\n",
    "    \n",
    "    return df\n",
    "    \n",
    "def preprocess(df, dv):\n",
    "    df['PU_DO'] = df['PULocationID'] + '_' + df['DOLocationID']\n",
    "    categorical = ['PU_DO']\n",
    "    numerical = ['trip_distance']\n",
    "    train_dicts = df[categorical + numerical].to_dict(orient='records')\n",
    "    return dv.transform(train_dicts)\n",
    "\n",
    "\n",
    "def test_model(name, stage, X_test, y_test):\n",
    "    model = mlflow.pyfunc.load_model(f\"models:/{name}/{stage}\")\n",
    "    y_pred = model.predict(X_test)\n",
    "    return {\"rmse\": mean_squared_error(y_test, y_pred, squared=False)}"
   ]
  },
  {
   "cell_type": "code",
   "execution_count": 18,
   "metadata": {},
   "outputs": [],
   "source": [
    "df = read_dataframe(\"../data/green_tripdata_2021-03.parquet\")"
   ]
  },
  {
   "cell_type": "code",
   "execution_count": 20,
   "metadata": {},
   "outputs": [
    {
     "data": {
      "text/plain": [
       "'/Users/husni.zuhdi/Documents/Codes/1-Python-Workshop/mlops-zoomcamp/personal-notebooks/02-experiment-tracking/models/preprocessor'"
      ]
     },
     "execution_count": 20,
     "metadata": {},
     "output_type": "execute_result"
    }
   ],
   "source": [
    "client.download_artifacts(run_id=run_id, path='preprocessor', dst_path='./models')"
   ]
  },
  {
   "cell_type": "code",
   "execution_count": 22,
   "metadata": {},
   "outputs": [],
   "source": [
    "import pickle\n",
    "\n",
    "with open(\"models/preprocessor/preprocessor.b\", \"rb\") as f_in:\n",
    "    dv = pickle.load(f_in)"
   ]
  },
  {
   "cell_type": "code",
   "execution_count": 23,
   "metadata": {},
   "outputs": [],
   "source": [
    "X_test = preprocess(df, dv)"
   ]
  },
  {
   "cell_type": "code",
   "execution_count": 24,
   "metadata": {},
   "outputs": [],
   "source": [
    "target = \"duration\"\n",
    "y_test = df[target].values"
   ]
  },
  {
   "cell_type": "code",
   "execution_count": 32,
   "metadata": {},
   "outputs": [
    {
     "name": "stdout",
     "output_type": "stream",
     "text": [
      "CPU times: user 328 ms, sys: 103 ms, total: 431 ms\n",
      "Wall time: 590 ms\n"
     ]
    },
    {
     "data": {
      "text/plain": [
       "{'rmse': 6.659623830022514}"
      ]
     },
     "execution_count": 32,
     "metadata": {},
     "output_type": "execute_result"
    }
   ],
   "source": [
    "%time test_model(name=model_name, stage=\"Production\", X_test=X_test, y_test=y_test)"
   ]
  },
  {
   "cell_type": "code",
   "execution_count": 34,
   "metadata": {},
   "outputs": [
    {
     "name": "stdout",
     "output_type": "stream",
     "text": [
      "CPU times: user 7.88 s, sys: 718 ms, total: 8.6 s\n",
      "Wall time: 8.99 s\n"
     ]
    },
    {
     "data": {
      "text/plain": [
       "{'rmse': 6.886564762449945}"
      ]
     },
     "execution_count": 34,
     "metadata": {},
     "output_type": "execute_result"
    }
   ],
   "source": [
    "%time test_model(name=model_name, stage=\"Archived\", X_test=X_test, y_test=y_test)"
   ]
  }
 ],
 "metadata": {
  "interpreter": {
   "hash": "0848c9d6c7d415ad6c477ff7ff8e98694d1a4aa96d0deee89244642e6b630036"
  },
  "kernelspec": {
   "display_name": "Python 3.9.12 ('exp-tracking-env')",
   "language": "python",
   "name": "python3"
  },
  "language_info": {
   "codemirror_mode": {
    "name": "ipython",
    "version": 3
   },
   "file_extension": ".py",
   "mimetype": "text/x-python",
   "name": "python",
   "nbconvert_exporter": "python",
   "pygments_lexer": "ipython3",
   "version": "3.8.5"
  },
  "orig_nbformat": 4
 },
 "nbformat": 4,
 "nbformat_minor": 2
}
